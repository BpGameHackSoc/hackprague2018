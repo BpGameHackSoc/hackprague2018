{
 "cells": [
  {
   "cell_type": "code",
   "execution_count": 18,
   "metadata": {},
   "outputs": [],
   "source": [
    "\n",
    "import os\n",
    "import csv\n",
    "import argparse\n",
    "import numpy as np \n",
    "import scipy.misc\n",
    "from IPython.core.interactiveshell import InteractiveShell\n",
    "InteractiveShell.ast_node_interactivity = \"all\"\n",
    "\n",
    "file = 'data/fer2013/fer2013.csv'\n",
    "output = 'data/fer2013/extracted'\n",
    "\n",
    "w, h = 48, 48\n",
    "image = np.zeros((h, w), dtype=np.uint8)\n",
    "id = 1\n",
    "from PIL import Image\n",
    "from matplotlib.pyplot import imshow\n",
    "# with open(file, 'r') as csvfile:\n",
    "#     datareader = csv.reader(csvfile, delimiter =',')\n",
    "# #     print headers \n",
    "#     for i,row in enumerate(datareader):  \n",
    "#         if i==0:\n",
    "#             continue\n",
    "#         emotion = row[0]\n",
    "#         pixels = list(map(int, row[1].split()))\n",
    "# #         print(row)\n",
    "#         usage = row[2]\n",
    "#         #print emotion, type(pixels[0]), usage\n",
    "#         pixels_array = np.asarray(pixels)\n",
    "\n",
    "#         image = pixels_array.reshape(w, h)\n",
    "#         #print image.shape\n",
    "\n",
    "#         stacked_image = np.dstack((image,) * 3)\n",
    "#         #print stacked_image.shape\n",
    "\n",
    "\n",
    "#         image_folder = os.path.join(output, usage)\n",
    "#         if not os.path.exists(image_folder):\n",
    "#             os.makedirs(image_folder)\n",
    "#         image_file =  os.path.join(image_folder , str(id) + '.jpg')\n",
    "#         scipy.misc.imsave(image_file, stacked_image)\n",
    "#         id += 1 \n",
    "#         if id % 100 == 0:\n",
    "#             print('Processed {} images'.format(id))\n",
    "\n",
    "# print(\"Finished processing {} images\".format(id))"
   ]
  },
  {
   "cell_type": "code",
   "execution_count": 3,
   "metadata": {},
   "outputs": [],
   "source": [
    "import pandas as pd \n",
    "dataset = pd.read_csv(file)"
   ]
  },
  {
   "cell_type": "code",
   "execution_count": null,
   "metadata": {},
   "outputs": [],
   "source": [
    "# for i, dirname in enumerate(dirnames):\n",
    "#     filenames =[ os.path.join(dirname,filename) for filename in os.listdir(dirname)]\n",
    "#     img=mpimg.imread(np.random.choice(filenames))\n",
    "#     plt.subplot(len(dirnames) / columns + 1, columns, i + 1)\n",
    "#     plt.imshow(img)\n",
    "# plt.show()"
   ]
  },
  {
   "cell_type": "markdown",
   "metadata": {},
   "source": [
    "### 0=Angry, 1=Disgust, 2=Fear, 3=Happy, 4=Sad, 5=Surprise, 6=Neutral\n"
   ]
  },
  {
   "cell_type": "code",
   "execution_count": 4,
   "metadata": {},
   "outputs": [
    {
     "data": {
      "text/html": [
       "<div>\n",
       "<style scoped>\n",
       "    .dataframe tbody tr th:only-of-type {\n",
       "        vertical-align: middle;\n",
       "    }\n",
       "\n",
       "    .dataframe tbody tr th {\n",
       "        vertical-align: top;\n",
       "    }\n",
       "\n",
       "    .dataframe thead th {\n",
       "        text-align: right;\n",
       "    }\n",
       "</style>\n",
       "<table border=\"1\" class=\"dataframe\">\n",
       "  <thead>\n",
       "    <tr style=\"text-align: right;\">\n",
       "      <th></th>\n",
       "      <th>emotion</th>\n",
       "      <th>pixels</th>\n",
       "      <th>Usage</th>\n",
       "    </tr>\n",
       "  </thead>\n",
       "  <tbody>\n",
       "    <tr>\n",
       "      <th>0</th>\n",
       "      <td>0</td>\n",
       "      <td>70 80 82 72 58 58 60 63 54 58 60 48 89 115 121...</td>\n",
       "      <td>Training</td>\n",
       "    </tr>\n",
       "    <tr>\n",
       "      <th>1</th>\n",
       "      <td>0</td>\n",
       "      <td>151 150 147 155 148 133 111 140 170 174 182 15...</td>\n",
       "      <td>Training</td>\n",
       "    </tr>\n",
       "    <tr>\n",
       "      <th>2</th>\n",
       "      <td>2</td>\n",
       "      <td>231 212 156 164 174 138 161 173 182 200 106 38...</td>\n",
       "      <td>Training</td>\n",
       "    </tr>\n",
       "    <tr>\n",
       "      <th>3</th>\n",
       "      <td>4</td>\n",
       "      <td>24 32 36 30 32 23 19 20 30 41 21 22 32 34 21 1...</td>\n",
       "      <td>Training</td>\n",
       "    </tr>\n",
       "    <tr>\n",
       "      <th>4</th>\n",
       "      <td>6</td>\n",
       "      <td>4 0 0 0 0 0 0 0 0 0 0 0 3 15 23 28 48 50 58 84...</td>\n",
       "      <td>Training</td>\n",
       "    </tr>\n",
       "    <tr>\n",
       "      <th>5</th>\n",
       "      <td>2</td>\n",
       "      <td>55 55 55 55 55 54 60 68 54 85 151 163 170 179 ...</td>\n",
       "      <td>Training</td>\n",
       "    </tr>\n",
       "    <tr>\n",
       "      <th>6</th>\n",
       "      <td>4</td>\n",
       "      <td>20 17 19 21 25 38 42 42 46 54 56 62 63 66 82 1...</td>\n",
       "      <td>Training</td>\n",
       "    </tr>\n",
       "    <tr>\n",
       "      <th>7</th>\n",
       "      <td>3</td>\n",
       "      <td>77 78 79 79 78 75 60 55 47 48 58 73 77 79 57 5...</td>\n",
       "      <td>Training</td>\n",
       "    </tr>\n",
       "    <tr>\n",
       "      <th>8</th>\n",
       "      <td>3</td>\n",
       "      <td>85 84 90 121 101 102 133 153 153 169 177 189 1...</td>\n",
       "      <td>Training</td>\n",
       "    </tr>\n",
       "    <tr>\n",
       "      <th>9</th>\n",
       "      <td>2</td>\n",
       "      <td>255 254 255 254 254 179 122 107 95 124 149 150...</td>\n",
       "      <td>Training</td>\n",
       "    </tr>\n",
       "  </tbody>\n",
       "</table>\n",
       "</div>"
      ],
      "text/plain": [
       "   emotion                                             pixels     Usage\n",
       "0        0  70 80 82 72 58 58 60 63 54 58 60 48 89 115 121...  Training\n",
       "1        0  151 150 147 155 148 133 111 140 170 174 182 15...  Training\n",
       "2        2  231 212 156 164 174 138 161 173 182 200 106 38...  Training\n",
       "3        4  24 32 36 30 32 23 19 20 30 41 21 22 32 34 21 1...  Training\n",
       "4        6  4 0 0 0 0 0 0 0 0 0 0 0 3 15 23 28 48 50 58 84...  Training\n",
       "5        2  55 55 55 55 55 54 60 68 54 85 151 163 170 179 ...  Training\n",
       "6        4  20 17 19 21 25 38 42 42 46 54 56 62 63 66 82 1...  Training\n",
       "7        3  77 78 79 79 78 75 60 55 47 48 58 73 77 79 57 5...  Training\n",
       "8        3  85 84 90 121 101 102 133 153 153 169 177 189 1...  Training\n",
       "9        2  255 254 255 254 254 179 122 107 95 124 149 150...  Training"
      ]
     },
     "execution_count": 4,
     "metadata": {},
     "output_type": "execute_result"
    }
   ],
   "source": [
    "dataset.iloc[:10,:]"
   ]
  },
  {
   "cell_type": "code",
   "execution_count": 31,
   "metadata": {},
   "outputs": [
    {
     "data": {
      "text/plain": [
       "array(['Training', 'PublicTest', 'PrivateTest'], dtype=object)"
      ]
     },
     "execution_count": 31,
     "metadata": {},
     "output_type": "execute_result"
    }
   ],
   "source": [
    "dataset.Usage.unique()"
   ]
  },
  {
   "cell_type": "code",
   "execution_count": 24,
   "metadata": {},
   "outputs": [
    {
     "data": {
      "text/plain": [
       "(28709, 3)"
      ]
     },
     "execution_count": 24,
     "metadata": {},
     "output_type": "execute_result"
    },
    {
     "data": {
      "text/plain": [
       "(3589, 3)"
      ]
     },
     "execution_count": 24,
     "metadata": {},
     "output_type": "execute_result"
    },
    {
     "data": {
      "text/plain": [
       "(3589, 3)"
      ]
     },
     "execution_count": 24,
     "metadata": {},
     "output_type": "execute_result"
    }
   ],
   "source": [
    "\n",
    "training = dataset[dataset['Usage']=='Training']\n",
    "validation = dataset[dataset['Usage']=='PublicTest']\n",
    "test = dataset[dataset['Usage']=='PrivateTest']\n",
    "training.shape\n",
    "validation.shape\n",
    "test.shape"
   ]
  },
  {
   "cell_type": "code",
   "execution_count": 25,
   "metadata": {},
   "outputs": [
    {
     "data": {
      "text/plain": [
       "270"
      ]
     },
     "execution_count": 25,
     "metadata": {},
     "output_type": "execute_result"
    },
    {
     "data": {
      "text/plain": [
       "278"
      ]
     },
     "execution_count": 25,
     "metadata": {},
     "output_type": "execute_result"
    }
   ],
   "source": [
    "train_val_common = set(training.pixels) & set(validation.pixels)\n",
    "train_test_common = set(training.pixels) & set(test.pixels)\n",
    "len(train_val_common)\n",
    "len(train_test_common)"
   ]
  },
  {
   "cell_type": "code",
   "execution_count": 29,
   "metadata": {},
   "outputs": [],
   "source": [
    "validation = validation[~validation['pixels'].isin(train_val_common)]\n",
    "test = test[~test['pixels'].isin(train_test_common)]"
   ]
  },
  {
   "cell_type": "code",
   "execution_count": 98,
   "metadata": {},
   "outputs": [],
   "source": [
    "def pixstr2numpy(pixstr):\n",
    "    pixels = np.array(pixstr.split())\n",
    "    pixels = pixels.reshape(w, h)\n",
    "    return pixels.astype(np.int32)\n",
    "\n",
    "def to3D(array):\n",
    "    size = array.shape[0]\n",
    "    X_t = np.zeros((size,48,48))\n",
    "    for i,x in enumerate(array):\n",
    "        X_t[i,:,:] = x\n",
    "    X_t = X_t.astype(np.int32)\n",
    "    return X_t\n",
    "\n",
    "def X_Y_split(df):\n",
    "    X_train,Y_train = training['pixels'].apply(pixstr2numpy),training['emotion'].astype(np.int32)\n",
    "    X_train = np.array(X_train)\n",
    "    X_train = to3D(X_train)\n",
    "    Y_train  = Y_train.values\n",
    "    return X_train,Y_train"
   ]
  },
  {
   "cell_type": "code",
   "execution_count": 37,
   "metadata": {},
   "outputs": [],
   "source": [
    "X_train,Y_train = training['pixels'].apply(pixstr2numpy),training['emotion'].astype(np.int32)"
   ]
  },
  {
   "cell_type": "code",
   "execution_count": 99,
   "metadata": {},
   "outputs": [],
   "source": [
    "X_train,Y_train = X_Y_split(training)"
   ]
  },
  {
   "cell_type": "code",
   "execution_count": 103,
   "metadata": {},
   "outputs": [],
   "source": [
    "X_validation,Y_validation = X_Y_split(validation)\n",
    "X_test,Y_test = X_Y_split(test)"
   ]
  },
  {
   "cell_type": "code",
   "execution_count": 104,
   "metadata": {},
   "outputs": [
    {
     "data": {
      "text/plain": [
       "(28709, 48, 48)"
      ]
     },
     "execution_count": 104,
     "metadata": {},
     "output_type": "execute_result"
    }
   ],
   "source": [
    "X_test.shape"
   ]
  },
  {
   "cell_type": "code",
   "execution_count": 102,
   "metadata": {},
   "outputs": [
    {
     "data": {
      "text/plain": [
       "(28709, 48, 48)"
      ]
     },
     "execution_count": 102,
     "metadata": {},
     "output_type": "execute_result"
    },
    {
     "data": {
      "text/plain": [
       "(28709,)"
      ]
     },
     "execution_count": 102,
     "metadata": {},
     "output_type": "execute_result"
    }
   ],
   "source": [
    "X_train.shape\n",
    "Y_train.shape"
   ]
  },
  {
   "cell_type": "code",
   "execution_count": 28,
   "metadata": {},
   "outputs": [
    {
     "data": {
      "image/png": "[encoded data removed]",
      "text/plain": [
       "<Figure size 432x288 with 1 Axes>"
      ]
     },
     "metadata": {},
     "output_type": "display_data"
    }
   ],
   "source": [
    "disp(ranpix)"
   ]
  },
  {
   "cell_type": "code",
   "execution_count": null,
   "metadata": {},
   "outputs": [],
   "source": [
    "train = dataset[dataset.Usage=='Training']\n",
    "test = dataset[dataset.Usage=='Training']"
   ]
  },
  {
   "cell_type": "code",
   "execution_count": 10,
   "metadata": {},
   "outputs": [],
   "source": [
    "\n",
    "pixels = np.array(dataset.iloc[0,1].split())"
   ]
  },
  {
   "cell_type": "code",
   "execution_count": 18,
   "metadata": {},
   "outputs": [],
   "source": [
    "pixels = pixels.astype(np.int32)\n",
    "pixels = pixels.reshape(w, h)\n",
    "im = Image.fromarray(pixels,mode='I') # np.asarray to convert back"
   ]
  },
  {
   "cell_type": "code",
   "execution_count": 14,
   "metadata": {},
   "outputs": [],
   "source": [
    "def disp(pixels):\n",
    "    pixels = np.array(pixels.split())\n",
    "    pixels = pixels.astype(np.int32)\n",
    "    pixels = pixels.reshape(w, h)\n",
    "    im = Image.fromarray(pixels,mode='I') \n",
    "    imshow(im)"
   ]
  },
  {
   "cell_type": "code",
   "execution_count": 73,
   "metadata": {},
   "outputs": [],
   "source": [
    "def dis(array):\n",
    "    im = Image.fromarray(array,mode='I') \n",
    "    imshow(im)"
   ]
  },
  {
   "cell_type": "code",
   "execution_count": 28,
   "metadata": {},
   "outputs": [
    {
     "data": {
      "text/plain": [
       "<matplotlib.image.AxesImage at 0x7f8a6108d710>"
      ]
     },
     "execution_count": 28,
     "metadata": {},
     "output_type": "execute_result"
    },
    {
     "data": {
      "image/png": "[encoded data removed]",
      "text/plain": [
       "<Figure size 432x288 with 1 Axes>"
      ]
     },
     "metadata": {},
     "output_type": "display_data"
    }
   ],
   "source": [
    "imshow(im)"
   ]
  },
  {
   "cell_type": "code",
   "execution_count": 25,
   "metadata": {},
   "outputs": [
    {
     "data": {
      "image/png": "[encoded data removed]",
      "text/plain": [
       "<IPython.core.display.Image object>"
      ]
     },
     "metadata": {},
     "output_type": "display_data"
    }
   ],
   "source": [
    "from IPython.display import display,Image as jupI\n",
    "display(jupI(pixels))"
   ]
  }
 ],
 "metadata": {
  "kernelspec": {
   "display_name": "hackprag",
   "language": "python",
   "name": "hackprag"
  },
  "language_info": {
   "codemirror_mode": {
    "name": "ipython",
    "version": 3
   },
   "file_extension": ".py",
   "mimetype": "text/x-python",
   "name": "python",
   "nbconvert_exporter": "python",
   "pygments_lexer": "ipython3",
   "version": "3.6.5"
  }
 },
 "nbformat": 4,
 "nbformat_minor": 2
}
